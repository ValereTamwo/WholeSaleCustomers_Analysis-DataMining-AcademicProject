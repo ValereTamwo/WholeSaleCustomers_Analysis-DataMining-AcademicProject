{
  "cells": [
    {
      "cell_type": "markdown",
      "metadata": {
        "id": "view-in-github",
        "colab_type": "text"
      },
      "source": [
        "<a href=\"https://colab.research.google.com/github/ValereTamwo/WholeSaleCustomers_Analysis-DataMining-AcademicProject/blob/master/untitled0.ipynb\" target=\"_parent\"><img src=\"https://colab.research.google.com/assets/colab-badge.svg\" alt=\"Open In Colab\"/></a>"
      ]
    },
    {
      "cell_type": "code",
      "execution_count": null,
      "metadata": {
        "colab": {
          "base_uri": "https://localhost:8080/"
        },
        "id": "lW21eVhPa4bg",
        "outputId": "dd19f342-6efc-4528-c4f8-18a2a1a905ea"
      },
      "outputs": [
        {
          "name": "stdout",
          "output_type": "stream",
          "text": [
            "bonjour\n"
          ]
        }
      ],
      "source": [
        "print('bonjour')"
      ]
    },
    {
      "cell_type": "code",
      "execution_count": null,
      "metadata": {
        "id": "TcESsFEzbtSx",
        "colab": {
          "base_uri": "https://localhost:8080/"
        },
        "outputId": "83951da0-e920-4b1e-afe5-fe76e45a5ed1"
      },
      "outputs": [
        {
          "output_type": "stream",
          "name": "stdout",
          "text": [
            "Motif fréquent [1, 2]: Support = 3\n",
            "Motif fréquent [1, 3]: Support = 3\n",
            "Motif fréquent [1, 4]: Support = 2\n",
            "Motif fréquent [2, 3]: Support = 5\n",
            "Motif fréquent [2, 4]: Support = 4\n",
            "Motif fréquent [2, 5]: Support = 2\n",
            "Motif fréquent [3, 4]: Support = 4\n",
            "Motif fréquent [3, 5]: Support = 2\n",
            "Motif fréquent [4, 5]: Support = 2\n",
            "Motif fréquent [1, 2, 3]: Support = 3\n",
            "Motif fréquent [1, 2, 4]: Support = 2\n",
            "Motif fréquent [1, 3, 4]: Support = 2\n",
            "Motif fréquent [2, 3, 4]: Support = 4\n",
            "Motif fréquent [2, 3, 5]: Support = 2\n",
            "Motif fréquent [2, 4, 5]: Support = 2\n",
            "Motif fréquent [3, 4, 5]: Support = 2\n",
            "Motif fréquent [1, 2, 3, 4]: Support = 2\n",
            "Motif fréquent [2, 3, 4, 5]: Support = 2\n"
          ]
        }
      ],
      "source": [
        "import numpy as np\n",
        "import pandas as pd\n",
        "\n",
        "def generate_candidates(frequent_item_sets, length):\n",
        "    \"\"\"\n",
        "    Génère de nouveaux candidats de taille (length) à partir de fréquents (frequent_item_sets).\n",
        "    \"\"\"\n",
        "    candidates = []\n",
        "    for i in range(len(frequent_item_sets)):\n",
        "        for j in range(i + 1, len(frequent_item_sets)):\n",
        "            item_set1 = frequent_item_sets[i]\n",
        "            item_set2 = frequent_item_sets[j]\n",
        "            if item_set1[:-1] == item_set2[:-1] and item_set1[-1] != item_set2[-1]:\n",
        "                new_candidate = item_set1 + [item_set2[-1]]\n",
        "                candidates.append(new_candidate)\n",
        "    return candidates\n",
        "\n",
        "def calculate_support(data, item_set):\n",
        "    \"\"\"\n",
        "    Calcule le support d'un item_set dans les données.\n",
        "    \"\"\"\n",
        "    support = 0\n",
        "    for data_point in data:\n",
        "        if all(item in data_point for item in item_set):\n",
        "            support += 1\n",
        "    return support\n",
        "\n",
        "def spade_gps(data, min_support):\n",
        "    \"\"\"\n",
        "    Implémentation de l'algorithme SPADE-GSP pour l'extraction de séquences fréquentes.\n",
        "    \"\"\"\n",
        "    # Initialisation des séquences fréquentes de taille 1\n",
        "    frequent_item_sets = [[item] for item in range(1, max(max(data)) + 1)]\n",
        "\n",
        "    # Résultats finaux\n",
        "    frequent_sequences = []\n",
        "\n",
        "    # Recherche des séquences fréquentes\n",
        "    k = 2\n",
        "    while frequent_item_sets:\n",
        "        # Calcul du support des séquences candidates de taille k\n",
        "        candidates = generate_candidates(frequent_item_sets, k)\n",
        "        frequent_item_sets = []\n",
        "        for candidate in candidates:\n",
        "            support = calculate_support(data, candidate)\n",
        "            if support >= min_support:\n",
        "                frequent_item_sets.append(candidate)\n",
        "                frequent_sequences.append((candidate, support))\n",
        "        k += 1\n",
        "\n",
        "    return frequent_sequences\n",
        "\n",
        "def main():\n",
        "    # Données d'exemple\n",
        "    data = [[1, 2, 3, 4, 5], [2, 3, 4, 5], [2, 3, 4], [1, 2, 3], [1, 2, 3, 4]]\n",
        "    min_support = 2\n",
        "\n",
        "    # Exécution de l'algorithme\n",
        "    frequent_sequences = spade_gps(data, min_support)\n",
        "\n",
        "    # Affichage des motifs fréquents\n",
        "    for sequence, support in frequent_sequences:\n",
        "        print(f\"Motif fréquent {sequence}: Support = {support}\")\n",
        "\n",
        "if __name__ == \"__main__\":\n",
        "    main()\n"
      ]
    },
    {
      "cell_type": "code",
      "execution_count": null,
      "metadata": {
        "colab": {
          "base_uri": "https://localhost:8080/"
        },
        "id": "7fr5QVeofein",
        "outputId": "d23d6a22-ba4d-42fb-a956-303635a8fa58"
      },
      "outputs": [
        {
          "name": "stdout",
          "output_type": "stream",
          "text": [
            "[1, 4, 5]\n"
          ]
        }
      ],
      "source": [
        "print(my_list)"
      ]
    },
    {
      "cell_type": "code",
      "execution_count": null,
      "metadata": {
        "id": "wQTE1A5PfoE6"
      },
      "outputs": [],
      "source": [
        "list=[1, 2, 3, 4 ]"
      ]
    },
    {
      "cell_type": "code",
      "execution_count": null,
      "metadata": {
        "colab": {
          "base_uri": "https://localhost:8080/"
        },
        "id": "h0sEhRPigESy",
        "outputId": "0fa9bef4-7f44-41b2-fe41-275ffe892ede"
      },
      "outputs": [
        {
          "name": "stdout",
          "output_type": "stream",
          "text": [
            "[1, 2, 3, 4]\n"
          ]
        }
      ],
      "source": [
        "print(list)\n"
      ]
    },
    {
      "cell_type": "code",
      "execution_count": null,
      "metadata": {
        "id": "QMcVFK4xgxI7"
      },
      "outputs": [],
      "source": [
        "import numpy as np"
      ]
    },
    {
      "cell_type": "code",
      "execution_count": null,
      "metadata": {
        "id": "B8_3PYqpg3EU"
      },
      "outputs": [],
      "source": [
        "import matplotlib.pyplot as plt"
      ]
    },
    {
      "cell_type": "code",
      "execution_count": null,
      "metadata": {
        "id": "aOxb7W46g7N_"
      },
      "outputs": [],
      "source": [
        "X = np.linspace(0,50,num=300)"
      ]
    },
    {
      "cell_type": "code",
      "execution_count": null,
      "metadata": {
        "id": "7otXPQC8hEyG"
      },
      "outputs": [],
      "source": [
        "Y = np.cos(X)"
      ]
    },
    {
      "cell_type": "code",
      "execution_count": null,
      "metadata": {
        "colab": {
          "base_uri": "https://localhost:8080/",
          "height": 447
        },
        "id": "HIZOMfDjhHKM",
        "outputId": "9baf80ac-ec65-4663-dc4d-3da866e1ed11"
      },
      "outputs": [
        {
          "data": {
            "text/plain": [
              "[<matplotlib.lines.Line2D at 0x7caf2491fd60>]"
            ]
          },
          "execution_count": 19,
          "metadata": {},
          "output_type": "execute_result"
        },
        {
          "data": {
            "image/png": "[encoded data removed]",
            "text/plain": [
              "<Figure size 640x480 with 1 Axes>"
            ]
          },
          "metadata": {},
          "output_type": "display_data"
        }
      ],
      "source": [
        "plt.plot(X,Y)"
      ]
    },
    {
      "cell_type": "code",
      "execution_count": null,
      "metadata": {
        "id": "cHQnX_oChW-0"
      },
      "outputs": [],
      "source": [
        "plt.show()"
      ]
    },
    {
      "cell_type": "code",
      "execution_count": null,
      "metadata": {
        "id": "kRVaTBGEhcD9"
      },
      "outputs": [],
      "source": [
        "X = np.arange(2 ,8,0.5)"
      ]
    },
    {
      "cell_type": "code",
      "execution_count": null,
      "metadata": {
        "colab": {
          "base_uri": "https://localhost:8080/"
        },
        "id": "fISvJ23-iEV5",
        "outputId": "9236d556-7226-4fb2-e674-cc5792b09397"
      },
      "outputs": [
        {
          "name": "stdout",
          "output_type": "stream",
          "text": [
            "[2.  2.5 3.  3.5 4.  4.5 5.  5.5 6.  6.5 7.  7.5]\n"
          ]
        }
      ],
      "source": [
        "print(X)"
      ]
    },
    {
      "cell_type": "code",
      "execution_count": null,
      "metadata": {
        "id": "MBOoEr2knC5s"
      },
      "outputs": [],
      "source": [
        "X = np.zeros(7)"
      ]
    },
    {
      "cell_type": "code",
      "execution_count": null,
      "metadata": {
        "colab": {
          "base_uri": "https://localhost:8080/"
        },
        "id": "poVkbMkBnIOV",
        "outputId": "21e28d2d-eacc-4954-f2a8-0a4bb0fdb462"
      },
      "outputs": [
        {
          "name": "stdout",
          "output_type": "stream",
          "text": [
            "[0. 0. 0. 0. 0. 0. 0.]\n"
          ]
        }
      ],
      "source": [
        "print(X)"
      ]
    },
    {
      "cell_type": "code",
      "execution_count": null,
      "metadata": {
        "id": "U5WKHVqQnur9"
      },
      "outputs": [],
      "source": [
        "import numpy as np"
      ]
    },
    {
      "cell_type": "code",
      "execution_count": null,
      "metadata": {
        "id": "aZOsALD_nxDA"
      },
      "outputs": [],
      "source": [
        "import matplotlib.pyplot as plt"
      ]
    },
    {
      "cell_type": "code",
      "execution_count": null,
      "metadata": {
        "id": "djZLDlWin7n0"
      },
      "outputs": [],
      "source": [
        "def f(x):\n",
        "   return np.exp(-x**2)"
      ]
    },
    {
      "cell_type": "code",
      "execution_count": null,
      "metadata": {
        "id": "t2mpIB9_oHzh"
      },
      "outputs": [],
      "source": [
        "a,b = -9,9"
      ]
    },
    {
      "cell_type": "code",
      "execution_count": null,
      "metadata": {
        "id": "faOkhRInoStq"
      },
      "outputs": [],
      "source": [
        "X = np.linspace(a,b,num=100)"
      ]
    },
    {
      "cell_type": "code",
      "execution_count": null,
      "metadata": {
        "id": "IZlJDUOtoSYL"
      },
      "outputs": [],
      "source": [
        "Y = f(X)"
      ]
    },
    {
      "cell_type": "code",
      "execution_count": null,
      "metadata": {
        "colab": {
          "base_uri": "https://localhost:8080/",
          "height": 430
        },
        "id": "jBoyAOOboSI7",
        "outputId": "0dc980b4-2d36-4c89-8aa4-be2a84d8f2a7"
      },
      "outputs": [
        {
          "data": {
            "image/png": "[encoded data removed]",
            "text/plain": [
              "<Figure size 640x480 with 1 Axes>"
            ]
          },
          "metadata": {},
          "output_type": "display_data"
        }
      ],
      "source": [
        "plt.plot(X,Y)\n",
        "plt.show()"
      ]
    },
    {
      "cell_type": "code",
      "execution_count": null,
      "metadata": {
        "id": "CJ4HIr8PpgAB"
      },
      "outputs": [],
      "source": [
        "import numpy as np\n",
        "import matplotlib.pyplot as plt\n",
        "from mpl_toolkits.mplot3d import Axes3D\n"
      ]
    },
    {
      "cell_type": "code",
      "execution_count": null,
      "metadata": {
        "colab": {
          "base_uri": "https://localhost:8080/",
          "height": 200
        },
        "id": "dPNoAFMqqnTh",
        "outputId": "ae244113-8234-4531-cd82-86d471ca6a22"
      },
      "outputs": [
        {
          "ename": "NameError",
          "evalue": "ignored",
          "output_type": "error",
          "traceback": [
            "\u001b[0;31m---------------------------------------------------------------------------\u001b[0m",
            "\u001b[0;31mNameError\u001b[0m                                 Traceback (most recent call last)",
            "\u001b[0;32m<ipython-input-1-a9c02423a0f2>\u001b[0m in \u001b[0;36m<cell line: 1>\u001b[0;34m()\u001b[0m\n\u001b[0;32m----> 1\u001b[0;31m \u001b[0mVX\u001b[0m \u001b[0;34m=\u001b[0m \u001b[0mnp\u001b[0m\u001b[0;34m.\u001b[0m\u001b[0mlinspace\u001b[0m\u001b[0;34m(\u001b[0m\u001b[0;34m-\u001b[0m\u001b[0;36m5\u001b[0m\u001b[0;34m,\u001b[0m \u001b[0;36m5\u001b[0m\u001b[0;34m,\u001b[0m \u001b[0;36m20\u001b[0m\u001b[0;34m)\u001b[0m\u001b[0;34m\u001b[0m\u001b[0;34m\u001b[0m\u001b[0m\n\u001b[0m\u001b[1;32m      2\u001b[0m \u001b[0mVY\u001b[0m \u001b[0;34m=\u001b[0m \u001b[0mnp\u001b[0m\u001b[0;34m.\u001b[0m\u001b[0mlinspace\u001b[0m\u001b[0;34m(\u001b[0m\u001b[0;34m-\u001b[0m\u001b[0;36m5\u001b[0m\u001b[0;34m,\u001b[0m \u001b[0;36m5\u001b[0m\u001b[0;34m,\u001b[0m \u001b[0;36m20\u001b[0m\u001b[0;34m)\u001b[0m\u001b[0;34m\u001b[0m\u001b[0;34m\u001b[0m\u001b[0m\n\u001b[1;32m      3\u001b[0m \u001b[0mX\u001b[0m\u001b[0;34m,\u001b[0m\u001b[0mY\u001b[0m \u001b[0;34m=\u001b[0m \u001b[0mnp\u001b[0m\u001b[0;34m.\u001b[0m\u001b[0mmeshgrid\u001b[0m\u001b[0;34m(\u001b[0m\u001b[0mVX\u001b[0m\u001b[0;34m,\u001b[0m \u001b[0mVY\u001b[0m\u001b[0;34m)\u001b[0m\u001b[0;34m\u001b[0m\u001b[0;34m\u001b[0m\u001b[0m\n",
            "\u001b[0;31mNameError\u001b[0m: name 'np' is not defined"
          ]
        }
      ],
      "source": [
        "VX = np.linspace(-5, 5, 20)\n",
        "VY = np.linspace(-5, 5, 20)\n",
        "X,Y = np.meshgrid(VX, VY)\n"
      ]
    },
    {
      "cell_type": "code",
      "execution_count": null,
      "metadata": {
        "id": "Ao8CZnGMq8Uw"
      },
      "outputs": [],
      "source": [
        "entree = np.c_[X.ravel(), Y.ravel()]"
      ]
    },
    {
      "cell_type": "code",
      "execution_count": null,
      "metadata": {
        "id": "YZTteSK5shuF"
      },
      "outputs": [],
      "source": [
        "from tensorflow.keras.datasets import mnist\n",
        "(X_train_data,Y_train_data),(X_test_data,Y_test_data) = mnist.load_data()"
      ]
    },
    {
      "cell_type": "code",
      "execution_count": null,
      "metadata": {
        "colab": {
          "base_uri": "https://localhost:8080/",
          "height": 430
        },
        "id": "1qmG72sutCbz",
        "outputId": "31065c2b-8402-430f-ffc1-e53c77861ed0"
      },
      "outputs": [
        {
          "data": {
            "image/png": "[encoded data removed]",
            "text/plain": [
              "<Figure size 640x480 with 1 Axes>"
            ]
          },
          "metadata": {},
          "output_type": "display_data"
        }
      ],
      "source": [
        "import matplotlib.pyplot as plt\n",
        "\n",
        "i = 0  # Remplacez 0 par l'indice de l'image que vous souhaitez afficher\n",
        "plt.imshow(X_train_data[i], cmap='Greys')\n",
        "plt.show()\n"
      ]
    },
    {
      "cell_type": "code",
      "execution_count": null,
      "metadata": {
        "id": "oLwEj1UQtrrc"
      },
      "outputs": [],
      "source": [
        "import numpy as np\n",
        "from tensorflow import keras\n",
        "from tensorflow.keras import optimizers\n",
        "from tensorflow.keras.models import Sequential\n",
        "from tensorflow.keras.layers import Dense\n",
        "### Partie A - Les données\n",
        "from tensorflow.keras.datasets import mnist\n",
        "from tensorflow.keras.utils import to_categorical\n",
        "# Téléchargement des données\n",
        "(X_train_data,Y_train_data),(X_test_data,Y_test_data) = mnist.load_data()\n",
        "N = X_train_data.shape[0]\n",
        "# N = 60 000 données\n",
        "# Données d'apprentissage X\n",
        "X_train = np.reshape(X_train_data,(N,784)) # vecteur image\n",
        "X_train = X_train/255 # normalisation\n",
        "# Données d'apprentissage Y vers une liste de taille 10\n",
        "Y_train = to_categorical(Y_train_data, num_classes=10)\n",
        "# Données de test\n",
        "X_test = np.reshape(X_test_data,(X_test_data.shape[0],784))\n",
        "X_test = X_test/255\n",
        "Y_test = to_categorical(Y_test_data, num_classes=10)\n",
        "### Partie B - Le réseau de neurones\n",
        "p = 8\n",
        "modele = Sequential()\n",
        "# Première couche : p neurones (entrée de dimension 784 = 28x28)\n",
        "modele.add(Dense(p, input_dim=784, activation='sigmoid'))\n",
        "# Deuxième couche : p neurones\n",
        "modele.add(Dense(p, activation='sigmoid'))\n",
        "# Couche de sortie : 1O neurones (un par chiffre)\n",
        "modele.add(Dense(10, activation='softmax'))\n",
        "# Choix de la méthode de descente de gradient\n",
        "modele.compile(loss='categorical_crossentropy',\n",
        "optimizer='sgd',\n",
        "metrics=['accuracy'])\n",
        "modele.fit(X_train, Y_train, batch_size=32, epochs=40)\n",
        "### Partie D - Résultats\n",
        "resultat = modele.evaluate(X_test, Y_test, verbose=0)\n",
        "print('Précision sur les données de test (accuracy):', resultat[1])"
      ]
    },
    {
      "cell_type": "code",
      "execution_count": null,
      "metadata": {
        "colab": {
          "base_uri": "https://localhost:8080/",
          "height": 584
        },
        "id": "uGtGNGDJjBR9",
        "outputId": "07eee22c-84d0-4e5c-a17e-2327163cab2b"
      },
      "outputs": [
        {
          "name": "stderr",
          "output_type": "stream",
          "text": [
            "WARNING:absl:`lr` is deprecated in Keras optimizer, please use `learning_rate` or use the legacy optimizer, e.g.,tf.keras.optimizers.legacy.SGD.\n"
          ]
        },
        {
          "name": "stdout",
          "output_type": "stream",
          "text": [
            "Model: \"sequential_2\"\n",
            "_________________________________________________________________\n",
            " Layer (type)                Output Shape              Param #   \n",
            "=================================================================\n",
            " dense_7 (Dense)             (None, 10)                30        \n",
            "                                                                 \n",
            " dense_8 (Dense)             (None, 10)                110       \n",
            "                                                                 \n",
            " dense_9 (Dense)             (None, 10)                110       \n",
            "                                                                 \n",
            " dense_10 (Dense)            (None, 1)                 11        \n",
            "                                                                 \n",
            "=================================================================\n",
            "Total params: 261\n",
            "Trainable params: 261\n",
            "Non-trainable params: 0\n",
            "_________________________________________________________________\n",
            "None\n"
          ]
        },
        {
          "ename": "NameError",
          "evalue": "ignored",
          "output_type": "error",
          "traceback": [
            "\u001b[0;31m---------------------------------------------------------------------------\u001b[0m",
            "\u001b[0;31mNameError\u001b[0m                                 Traceback (most recent call last)",
            "\u001b[0;32m<ipython-input-6-164cf728b1ff>\u001b[0m in \u001b[0;36m<cell line: 33>\u001b[0;34m()\u001b[0m\n\u001b[1;32m     31\u001b[0m \u001b[0;31m# Partie C. Apprentissage\u001b[0m\u001b[0;34m\u001b[0m\u001b[0;34m\u001b[0m\u001b[0m\n\u001b[1;32m     32\u001b[0m \u001b[0;31m# Apprentissage époque par époque à la main\u001b[0m\u001b[0;34m\u001b[0m\u001b[0;34m\u001b[0m\u001b[0m\n\u001b[0;32m---> 33\u001b[0;31m \u001b[0;32mfor\u001b[0m \u001b[0mitem\u001b[0m \u001b[0;32min\u001b[0m \u001b[0miterable\u001b[0m\u001b[0;34m:\u001b[0m\u001b[0;34m\u001b[0m\u001b[0;34m\u001b[0m\u001b[0m\n\u001b[0m\u001b[1;32m     34\u001b[0m     \u001b[0;31m# Instructions à exécuter à chaque itération\u001b[0m\u001b[0;34m\u001b[0m\u001b[0;34m\u001b[0m\u001b[0m\n\u001b[1;32m     35\u001b[0m     \u001b[0mloss\u001b[0m \u001b[0;34m=\u001b[0m \u001b[0mmodel\u001b[0m\u001b[0;34m.\u001b[0m\u001b[0mtrain_on_batch\u001b[0m\u001b[0;34m(\u001b[0m\u001b[0minput_data\u001b[0m\u001b[0;34m,\u001b[0m \u001b[0mtarget_data\u001b[0m\u001b[0;34m)\u001b[0m\u001b[0;34m\u001b[0m\u001b[0;34m\u001b[0m\u001b[0m\n",
            "\u001b[0;31mNameError\u001b[0m: name 'iterable' is not defined"
          ]
        }
      ],
      "source": [
        "# Partie A. Données\n",
        "import numpy as np\n",
        "from tensorflow import keras\n",
        "from tensorflow.keras import optimizers\n",
        "from tensorflow.keras.models import Sequential\n",
        "from tensorflow.keras.layers import Dense\n",
        "### Partie A - Les données\n",
        "\n",
        "# Fonction à approcher\n",
        "def f(x,y):\n",
        "   return x*np.cos(y)\n",
        "n = 25 # pour le nb de points dans la grille\n",
        "xmin, xmax, ymin, ymax = -4.0, 4.0, -4.0, 4.0\n",
        "VX = np.linspace(xmin, xmax, n)\n",
        "VY = np.linspace(ymin, ymax, n)\n",
        "X, Y = np.meshgrid(VX, VY)\n",
        "Z = f(X, Y)\n",
        "entree = np.append(X.reshape(-1,1), Y.reshape(-1,1), axis=1)\n",
        "sortie = Z.reshape(-1, 1)\n",
        "# Partie B. Réseau\n",
        "modele = Sequential()\n",
        "p = 10\n",
        "modele.add(Dense(p, input_dim=2, activation='relu'))\n",
        "modele.add(Dense(p, activation='relu'))\n",
        "modele.add(Dense(p, activation='relu'))\n",
        "modele.add(Dense(1, activation='linear'))\n",
        "# Méthode de gradient : descente de gradient classique\n",
        "mysgd = optimizers.SGD(lr=0.01)\n",
        "modele.compile(loss='mean_squared_error', optimizer=mysgd)\n",
        "print(modele.summary())\n",
        "# Partie C. Apprentissage\n",
        "# Apprentissage époque par époque à la main\n",
        "for item in iterable:\n",
        "    # Instructions à exécuter à chaque itération\n",
        "    loss = model.train_on_batch(input_data, target_data)\n",
        "    # Autres instructions à l'intérieur de la boucle\n",
        "print('Erreur :',loss)\n",
        "# Partie D. Visualisation\n",
        "sortie_produite = modele.predict(entree)\n",
        "ZZ = sortie_produite.reshape(Z.shape) # sortie aux bonnes dimensions\n",
        "# Affichage\n",
        "import matplotlib.pyplot as plt\n",
        "from mpl_toolkits.mplot3d import Axes3D\n",
        "fig = plt.figure()\n",
        "ax = plt.axes(projection='3d')\n",
        "ax.plot_surface(X, Y, Z, color='blue', alpha=0.7)\n",
        "ax.plot_surface(X, Y, ZZ, color='red', alpha=0.7)\n",
        "plt.show()"
      ]
    },
    {
      "cell_type": "code",
      "execution_count": null,
      "metadata": {
        "colab": {
          "base_uri": "https://localhost:8080/",
          "height": 472
        },
        "id": "ZVAvcUJst7yZ",
        "outputId": "2d12c4aa-7ce0-44cf-e78b-9787311cc56d"
      },
      "outputs": [
        {
          "data": {
            "image/png": "[encoded data removed]",
            "text/plain": [
              "<Figure size 640x480 with 1 Axes>"
            ]
          },
          "metadata": {},
          "output_type": "display_data"
        }
      ],
      "source": [
        "import numpy as np\n",
        "import matplotlib.pyplot as plt\n",
        "\n",
        "# Créer une séquence de 20 points entre -5 et 5 pour l'axe x (VX) et l'axe y (VY)\n",
        "VX = np.linspace(-5, 5, 20)\n",
        "VY = np.linspace(-5, 5, 20)\n",
        "\n",
        "# Créer le maillage en utilisant np.meshgrid()\n",
        "X, Y = np.meshgrid(VX, VY)\n",
        "\n",
        "# Visualiser le maillage (par exemple, en utilisant un nuage de points)\n",
        "plt.scatter(X, Y)\n",
        "\n",
        "# Ajouter des labels et un titre au graphe\n",
        "plt.xlabel('Axe X')\n",
        "plt.ylabel('Axe Y')\n",
        "plt.title('Maillage de points')\n",
        "\n",
        "# Afficher le graphe\n",
        "plt.show()\n"
      ]
    },
    {
      "cell_type": "code",
      "execution_count": null,
      "metadata": {
        "colab": {
          "base_uri": "https://localhost:8080/",
          "height": 435
        },
        "id": "Ap3o58Pxuvfa",
        "outputId": "6dff1e95-da8c-479b-f593-6b859032aa2c"
      },
      "outputs": [
        {
          "name": "stderr",
          "output_type": "stream",
          "text": [
            "<ipython-input-5-e54b23817e26>:7: DeprecationWarning: Starting with ImageIO v3 the behavior of this function will switch to that of iio.v3.imread. To keep the current behavior (and make this warning disappear) use `import imageio.v2 as imageio` or call `imageio.v2.imread` directly.\n",
            "  A = imageio.imread('image__avant.png')\n"
          ]
        },
        {
          "ename": "FileNotFoundError",
          "evalue": "ignored",
          "output_type": "error",
          "traceback": [
            "\u001b[0;31m---------------------------------------------------------------------------\u001b[0m",
            "\u001b[0;31mFileNotFoundError\u001b[0m                         Traceback (most recent call last)",
            "\u001b[0;32m<ipython-input-5-e54b23817e26>\u001b[0m in \u001b[0;36m<cell line: 7>\u001b[0;34m()\u001b[0m\n\u001b[1;32m      5\u001b[0m \u001b[0;34m\u001b[0m\u001b[0m\n\u001b[1;32m      6\u001b[0m \u001b[0;31m# Lire l'image à partir du fichier 'image_avant.png'\u001b[0m\u001b[0;34m\u001b[0m\u001b[0;34m\u001b[0m\u001b[0m\n\u001b[0;32m----> 7\u001b[0;31m \u001b[0mA\u001b[0m \u001b[0;34m=\u001b[0m \u001b[0mimageio\u001b[0m\u001b[0;34m.\u001b[0m\u001b[0mimread\u001b[0m\u001b[0;34m(\u001b[0m\u001b[0;34m'image__avant.png'\u001b[0m\u001b[0;34m)\u001b[0m\u001b[0;34m\u001b[0m\u001b[0;34m\u001b[0m\u001b[0m\n\u001b[0m\u001b[1;32m      8\u001b[0m \u001b[0;34m\u001b[0m\u001b[0m\n\u001b[1;32m      9\u001b[0m \u001b[0;31m# Partie B - Motif de convolution\u001b[0m\u001b[0;34m\u001b[0m\u001b[0;34m\u001b[0m\u001b[0m\n",
            "\u001b[0;32m/usr/local/lib/python3.10/dist-packages/imageio/__init__.py\u001b[0m in \u001b[0;36mimread\u001b[0;34m(uri, format, **kwargs)\u001b[0m\n\u001b[1;32m     95\u001b[0m     )\n\u001b[1;32m     96\u001b[0m \u001b[0;34m\u001b[0m\u001b[0m\n\u001b[0;32m---> 97\u001b[0;31m     \u001b[0;32mreturn\u001b[0m \u001b[0mimread_v2\u001b[0m\u001b[0;34m(\u001b[0m\u001b[0muri\u001b[0m\u001b[0;34m,\u001b[0m \u001b[0mformat\u001b[0m\u001b[0;34m=\u001b[0m\u001b[0mformat\u001b[0m\u001b[0;34m,\u001b[0m \u001b[0;34m**\u001b[0m\u001b[0mkwargs\u001b[0m\u001b[0;34m)\u001b[0m\u001b[0;34m\u001b[0m\u001b[0;34m\u001b[0m\u001b[0m\n\u001b[0m\u001b[1;32m     98\u001b[0m \u001b[0;34m\u001b[0m\u001b[0m\n\u001b[1;32m     99\u001b[0m \u001b[0;34m\u001b[0m\u001b[0m\n",
            "\u001b[0;32m/usr/local/lib/python3.10/dist-packages/imageio/v2.py\u001b[0m in \u001b[0;36mimread\u001b[0;34m(uri, format, **kwargs)\u001b[0m\n\u001b[1;32m    224\u001b[0m     \u001b[0mimopen_args\u001b[0m\u001b[0;34m[\u001b[0m\u001b[0;34m\"legacy_mode\"\u001b[0m\u001b[0;34m]\u001b[0m \u001b[0;34m=\u001b[0m \u001b[0;32mTrue\u001b[0m\u001b[0;34m\u001b[0m\u001b[0;34m\u001b[0m\u001b[0m\n\u001b[1;32m    225\u001b[0m \u001b[0;34m\u001b[0m\u001b[0m\n\u001b[0;32m--> 226\u001b[0;31m     \u001b[0;32mwith\u001b[0m \u001b[0mimopen\u001b[0m\u001b[0;34m(\u001b[0m\u001b[0muri\u001b[0m\u001b[0;34m,\u001b[0m \u001b[0;34m\"ri\"\u001b[0m\u001b[0;34m,\u001b[0m \u001b[0;34m**\u001b[0m\u001b[0mimopen_args\u001b[0m\u001b[0;34m)\u001b[0m \u001b[0;32mas\u001b[0m \u001b[0mfile\u001b[0m\u001b[0;34m:\u001b[0m\u001b[0;34m\u001b[0m\u001b[0;34m\u001b[0m\u001b[0m\n\u001b[0m\u001b[1;32m    227\u001b[0m         \u001b[0mresult\u001b[0m \u001b[0;34m=\u001b[0m \u001b[0mfile\u001b[0m\u001b[0;34m.\u001b[0m\u001b[0mread\u001b[0m\u001b[0;34m(\u001b[0m\u001b[0mindex\u001b[0m\u001b[0;34m=\u001b[0m\u001b[0;36m0\u001b[0m\u001b[0;34m,\u001b[0m \u001b[0;34m**\u001b[0m\u001b[0mkwargs\u001b[0m\u001b[0;34m)\u001b[0m\u001b[0;34m\u001b[0m\u001b[0;34m\u001b[0m\u001b[0m\n\u001b[1;32m    228\u001b[0m \u001b[0;34m\u001b[0m\u001b[0m\n",
            "\u001b[0;32m/usr/local/lib/python3.10/dist-packages/imageio/core/imopen.py\u001b[0m in \u001b[0;36mimopen\u001b[0;34m(uri, io_mode, plugin, extension, format_hint, legacy_mode, **kwargs)\u001b[0m\n\u001b[1;32m    111\u001b[0m         \u001b[0mrequest\u001b[0m\u001b[0;34m.\u001b[0m\u001b[0mformat_hint\u001b[0m \u001b[0;34m=\u001b[0m \u001b[0mformat_hint\u001b[0m\u001b[0;34m\u001b[0m\u001b[0;34m\u001b[0m\u001b[0m\n\u001b[1;32m    112\u001b[0m     \u001b[0;32melse\u001b[0m\u001b[0;34m:\u001b[0m\u001b[0;34m\u001b[0m\u001b[0;34m\u001b[0m\u001b[0m\n\u001b[0;32m--> 113\u001b[0;31m         \u001b[0mrequest\u001b[0m \u001b[0;34m=\u001b[0m \u001b[0mRequest\u001b[0m\u001b[0;34m(\u001b[0m\u001b[0muri\u001b[0m\u001b[0;34m,\u001b[0m \u001b[0mio_mode\u001b[0m\u001b[0;34m,\u001b[0m \u001b[0mformat_hint\u001b[0m\u001b[0;34m=\u001b[0m\u001b[0mformat_hint\u001b[0m\u001b[0;34m,\u001b[0m \u001b[0mextension\u001b[0m\u001b[0;34m=\u001b[0m\u001b[0mextension\u001b[0m\u001b[0;34m)\u001b[0m\u001b[0;34m\u001b[0m\u001b[0;34m\u001b[0m\u001b[0m\n\u001b[0m\u001b[1;32m    114\u001b[0m \u001b[0;34m\u001b[0m\u001b[0m\n\u001b[1;32m    115\u001b[0m     \u001b[0msource\u001b[0m \u001b[0;34m=\u001b[0m \u001b[0;34m\"<bytes>\"\u001b[0m \u001b[0;32mif\u001b[0m \u001b[0misinstance\u001b[0m\u001b[0;34m(\u001b[0m\u001b[0muri\u001b[0m\u001b[0;34m,\u001b[0m \u001b[0mbytes\u001b[0m\u001b[0;34m)\u001b[0m \u001b[0;32melse\u001b[0m \u001b[0muri\u001b[0m\u001b[0;34m\u001b[0m\u001b[0;34m\u001b[0m\u001b[0m\n",
            "\u001b[0;32m/usr/local/lib/python3.10/dist-packages/imageio/core/request.py\u001b[0m in \u001b[0;36m__init__\u001b[0;34m(self, uri, mode, extension, format_hint, **kwargs)\u001b[0m\n\u001b[1;32m    245\u001b[0m \u001b[0;34m\u001b[0m\u001b[0m\n\u001b[1;32m    246\u001b[0m         \u001b[0;31m# Parse what was given\u001b[0m\u001b[0;34m\u001b[0m\u001b[0;34m\u001b[0m\u001b[0m\n\u001b[0;32m--> 247\u001b[0;31m         \u001b[0mself\u001b[0m\u001b[0;34m.\u001b[0m\u001b[0m_parse_uri\u001b[0m\u001b[0;34m(\u001b[0m\u001b[0muri\u001b[0m\u001b[0;34m)\u001b[0m\u001b[0;34m\u001b[0m\u001b[0;34m\u001b[0m\u001b[0m\n\u001b[0m\u001b[1;32m    248\u001b[0m \u001b[0;34m\u001b[0m\u001b[0m\n\u001b[1;32m    249\u001b[0m         \u001b[0;31m# Set extension\u001b[0m\u001b[0;34m\u001b[0m\u001b[0;34m\u001b[0m\u001b[0m\n",
            "\u001b[0;32m/usr/local/lib/python3.10/dist-packages/imageio/core/request.py\u001b[0m in \u001b[0;36m_parse_uri\u001b[0;34m(self, uri)\u001b[0m\n\u001b[1;32m    405\u001b[0m                 \u001b[0;31m# Reading: check that the file exists (but is allowed a dir)\u001b[0m\u001b[0;34m\u001b[0m\u001b[0;34m\u001b[0m\u001b[0m\n\u001b[1;32m    406\u001b[0m                 \u001b[0;32mif\u001b[0m \u001b[0;32mnot\u001b[0m \u001b[0mos\u001b[0m\u001b[0;34m.\u001b[0m\u001b[0mpath\u001b[0m\u001b[0;34m.\u001b[0m\u001b[0mexists\u001b[0m\u001b[0;34m(\u001b[0m\u001b[0mfn\u001b[0m\u001b[0;34m)\u001b[0m\u001b[0;34m:\u001b[0m\u001b[0;34m\u001b[0m\u001b[0;34m\u001b[0m\u001b[0m\n\u001b[0;32m--> 407\u001b[0;31m                     \u001b[0;32mraise\u001b[0m \u001b[0mFileNotFoundError\u001b[0m\u001b[0;34m(\u001b[0m\u001b[0;34m\"No such file: '%s'\"\u001b[0m \u001b[0;34m%\u001b[0m \u001b[0mfn\u001b[0m\u001b[0;34m)\u001b[0m\u001b[0;34m\u001b[0m\u001b[0;34m\u001b[0m\u001b[0m\n\u001b[0m\u001b[1;32m    408\u001b[0m             \u001b[0;32melse\u001b[0m\u001b[0;34m:\u001b[0m\u001b[0;34m\u001b[0m\u001b[0;34m\u001b[0m\u001b[0m\n\u001b[1;32m    409\u001b[0m                 \u001b[0;31m# Writing: check that the directory to write to does exist\u001b[0m\u001b[0;34m\u001b[0m\u001b[0;34m\u001b[0m\u001b[0m\n",
            "\u001b[0;31mFileNotFoundError\u001b[0m: No such file: '/content/image__avant.png'"
          ]
        }
      ],
      "source": [
        "import numpy as np\n",
        "import matplotlib.pyplot as plt\n",
        "# Partie A - Importer une image comme un tableau\n",
        "import imageio\n",
        "\n",
        "# Lire l'image à partir du fichier 'image_avant.png'\n",
        "\n",
        "# Partie B - Motif de convolution\n",
        "M = np.array([[-2,-1,0],[-1,1,1],[0,1,2]])\n",
        "# Partie C - Calcul de la convolution\n",
        "from scipy import signal\n",
        "B = signal.convolve2d(A, M, boundary='fill', mode='same')\n",
        "# Partie D - Affichage des images avant/après\n",
        "fig = plt.figure(figsize = (10,5))\n",
        "ax = plt.subplot(1,2,1)\n",
        "ax.set_title(\"Image originale\")\n",
        "ax.imshow(A, cmap='gray')\n",
        "bx = plt.subplot(1,2,2)\n",
        "bx.set_title(\"Image sortie\")\n",
        "bx.imshow(B, cmap='gray')\n",
        "plt.show()\n",
        "# Partie E - Sauvegarde de l'image\n",
        "B = np.clip(B,0,255)\n",
        "# limite les valeurs entre 0 et 255\n",
        "B = B.astype(np.uint8) # conversion en entiers\n",
        "imageio.imwrite('image_apres.png', B)"
      ]
    },
    {
      "cell_type": "code",
      "execution_count": null,
      "metadata": {
        "colab": {
          "base_uri": "https://localhost:8080/"
        },
        "id": "BtSlYhX_wFHZ",
        "outputId": "972d82e6-f354-4991-b6c7-8726ee155300"
      },
      "outputs": [
        {
          "name": "stdout",
          "output_type": "stream",
          "text": [
            "Downloading data from https://storage.googleapis.com/tensorflow/tf-keras-datasets/mnist.npz\n",
            "11490434/11490434 [==============================] - 1s 0us/step\n",
            "Model: \"sequential\"\n",
            "_________________________________________________________________\n",
            " Layer (type)                Output Shape              Param #   \n",
            "=================================================================\n",
            " conv2d (Conv2D)             (None, 28, 28, 32)        320       \n",
            "                                                                 \n",
            " conv2d_1 (Conv2D)           (None, 28, 28, 16)        4624      \n",
            "                                                                 \n",
            " flatten (Flatten)           (None, 12544)             0         \n",
            "                                                                 \n",
            " dense (Dense)               (None, 10)                125450    \n",
            "                                                                 \n",
            "=================================================================\n",
            "Total params: 130,394\n",
            "Trainable params: 130,394\n",
            "Non-trainable params: 0\n",
            "_________________________________________________________________\n",
            "None\n",
            "Epoch 1/5\n",
            "1875/1875 [==============================] - 122s 64ms/step - loss: 0.1514 - accuracy: 0.9554\n",
            "Epoch 2/5\n",
            "1875/1875 [==============================] - 121s 64ms/step - loss: 0.0575 - accuracy: 0.9831\n",
            "Epoch 3/5\n",
            "1875/1875 [==============================] - 120s 64ms/step - loss: 0.0398 - accuracy: 0.9880\n",
            "Epoch 4/5\n",
            "1875/1875 [==============================] - 120s 64ms/step - loss: 0.0295 - accuracy: 0.9909\n",
            "Epoch 5/5\n",
            "1875/1875 [==============================] - 117s 62ms/step - loss: 0.0208 - accuracy: 0.9933\n",
            "Test loss: 0.04643089696764946\n",
            "Test accuracy: 0.9878000020980835\n"
          ]
        }
      ],
      "source": [
        "import numpy as np\n",
        "import matplotlib.pyplot as plt\n",
        "from tensorflow import keras\n",
        "from tensorflow.keras import optimizers\n",
        "from tensorflow.keras.models import Sequential\n",
        "from tensorflow.keras.layers import Dense, Conv2D, Flatten\n",
        "### Partie A - Création des données\n",
        "from tensorflow.keras.datasets import mnist\n",
        "from tensorflow.keras.utils import to_categorical\n",
        "(X_train_data,Y_train_data),(X_test_data,Y_test_data) = mnist.load_data()\n",
        "N = X_train_data.shape[0]\n",
        "# 60 000 donnéesCONVOLUTION AVEC TENSORFLOW/KERAS\n",
        "239\n",
        "X_train = np.reshape(X_train_data, (N,28,28,1))\n",
        "X_test = np.reshape(X_test_data, (X_test_data.shape[0],28,28,1))\n",
        "X_train = X_train/255 # normalisation\n",
        "X_test = X_test/255\n",
        "Y_train = to_categorical(Y_train_data, num_classes=10)\n",
        "Y_test = to_categorical(Y_test_data, num_classes=10)\n",
        "### Partie B - Réseau de neurones\n",
        "modele = Sequential()\n",
        "# Première couche de convolution : 32 neurones, motif 3x3, activ. relu\n",
        "modele.add(Conv2D(32, kernel_size=3, padding='same', activation='relu',\n",
        "input_shape=(28,28,1)))\n",
        "# Deuxième couche de convolution : 16 neurones\n",
        "modele.add(Conv2D(16, kernel_size=3, padding='same', activation='relu'))\n",
        "# Aplatissage\n",
        "modele.add(Flatten())\n",
        "# Couche de sortie : 1O neurones\n",
        "modele.add(Dense(10, activation='softmax'))\n",
        "# Descente de gradient\n",
        "modele.compile(loss='categorical_crossentropy',\n",
        "optimizer='adam',\n",
        "metrics=['accuracy'])\n",
        "print(modele.summary())\n",
        "# Calcul des poids\n",
        "modele.fit(X_train, Y_train, batch_size=32, epochs=5)\n",
        "### Partie C - Résultats\n",
        "score = modele.evaluate(X_test, Y_test, verbose=0)\n",
        "print('Test loss:', score[0])\n",
        "print('Test accuracy:', score[1])"
      ]
    }
  ],
  "metadata": {
    "colab": {
      "provenance": [],
      "authorship_tag": "ABX9TyMcipbiUslPBaOEc3c3zBZW",
      "include_colab_link": true
    },
    "kernelspec": {
      "display_name": "Python 3",
      "name": "python3"
    },
    "language_info": {
      "name": "python"
    }
  },
  "nbformat": 4,
  "nbformat_minor": 0
}